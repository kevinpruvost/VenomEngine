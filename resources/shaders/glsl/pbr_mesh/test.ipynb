{
 "cells": [
  {
   "cell_type": "code",
   "execution_count": 7,
   "metadata": {},
   "outputs": [
    {
     "data": {
      "image/png": "[encoded data removed]",
      "text/plain": [
       "<Figure size 640x480 with 2 Axes>"
      ]
     },
     "metadata": {},
     "output_type": "display_data"
    },
    {
     "name": "stdout",
     "output_type": "stream",
     "text": [
      "Generated Gaussian Kernel:\n",
      "[[0.02015427 0.02028063 0.02035683 0.02038229 0.02035683 0.02028063\n",
      "  0.02015427]\n",
      " [0.02028063 0.02040778 0.02048445 0.02051008 0.02048445 0.02040778\n",
      "  0.02028063]\n",
      " [0.02035683 0.02048445 0.02056141 0.02058713 0.02056141 0.02048445\n",
      "  0.02035683]\n",
      " [0.02038229 0.02051008 0.02058713 0.02061288 0.02058713 0.02051008\n",
      "  0.02038229]\n",
      " [0.02035683 0.02048445 0.02056141 0.02058713 0.02056141 0.02048445\n",
      "  0.02035683]\n",
      " [0.02028063 0.02040778 0.02048445 0.02051008 0.02048445 0.02040778\n",
      "  0.02028063]\n",
      " [0.02015427 0.02028063 0.02035683 0.02038229 0.02035683 0.02028063\n",
      "  0.02015427]]\n"
     ]
    }
   ],
   "source": [
    "import numpy as np\n",
    "import matplotlib.pyplot as plt\n",
    "\n",
    "def generate_gaussian_kernel(size, sigma=1.0):\n",
    "    \"\"\"\n",
    "    Generates a 2D Gaussian kernel matrix for Gaussian blur.\n",
    "\n",
    "    Parameters:\n",
    "    - size (int): The size of the kernel (must be an odd integer).\n",
    "    - sigma (float): The standard deviation of the Gaussian distribution.\n",
    "\n",
    "    Returns:\n",
    "    - kernel (np.ndarray): 2D Gaussian kernel matrix.\n",
    "    \"\"\"\n",
    "    # Ensure size is odd to have a center\n",
    "    if size % 2 == 0:\n",
    "        size += 1\n",
    "\n",
    "    # Create a coordinate grid\n",
    "    ax = np.linspace(-(size // 2), size // 2, size)\n",
    "    xx, yy = np.meshgrid(ax, ax)\n",
    "\n",
    "    # Calculate the 2D Gaussian function\n",
    "    kernel = np.exp(-(xx**2 + yy**2) / (2 * sigma**2))\n",
    "\n",
    "    # Normalize the kernel to ensure the sum of all elements equals 1\n",
    "    kernel = kernel / np.sum(kernel)\n",
    "\n",
    "    return kernel\n",
    "\n",
    "def plot_kernel(kernel):\n",
    "    \"\"\"\n",
    "    Visualizes the Gaussian kernel using a heatmap.\n",
    "\n",
    "    Parameters:\n",
    "    - kernel (np.ndarray): 2D Gaussian kernel matrix to visualize.\n",
    "    \"\"\"\n",
    "    plt.imshow(kernel, cmap='hot', interpolation='nearest')\n",
    "    plt.colorbar()\n",
    "    plt.title(\"Gaussian Kernel\")\n",
    "    plt.show()\n",
    "\n",
    "# Example: Generate a 5x5 Gaussian kernel with sigma=1.0\n",
    "size = 7\n",
    "sigma = 20\n",
    "gaussian_kernel = generate_gaussian_kernel(size, sigma)\n",
    "\n",
    "# Plot the generated kernel\n",
    "plot_kernel(gaussian_kernel)\n",
    "\n",
    "# Print the generated kernel\n",
    "print(\"Generated Gaussian Kernel:\")\n",
    "print(gaussian_kernel)"
   ]
  },
  {
   "cell_type": "code",
   "execution_count": 10,
   "metadata": {},
   "outputs": [
    {
     "name": "stdout",
     "output_type": "stream",
     "text": [
      "1.0\n",
      "6.123233995736766e-17\n",
      "1.0\n",
      "1.8369701987210297e-16\n"
     ]
    }
   ],
   "source": [
    "import math\n",
    "\n",
    "def func_test(i):\n",
    "    return abs(math.cos(i * math.pi / 2))\n",
    "\n",
    "print(func_test(0))\n",
    "print(func_test(1))\n",
    "print(func_test(2))\n",
    "print(func_test(3))\n",
    "print(func_test(4))"
   ]
  },
  {
   "cell_type": "code",
   "execution_count": null,
   "metadata": {},
   "outputs": [],
   "source": []
  },
  {
   "cell_type": "code",
   "execution_count": null,
   "metadata": {},
   "outputs": [],
   "source": []
  },
  {
   "cell_type": "code",
   "execution_count": null,
   "metadata": {},
   "outputs": [],
   "source": []
  }
 ],
 "metadata": {
  "kernelspec": {
   "display_name": "def",
   "language": "python",
   "name": "python3"
  },
  "language_info": {
   "codemirror_mode": {
    "name": "ipython",
    "version": 3
   },
   "file_extension": ".py",
   "mimetype": "text/x-python",
   "name": "python",
   "nbconvert_exporter": "python",
   "pygments_lexer": "ipython3",
   "version": "3.9.20"
  }
 },
 "nbformat": 4,
 "nbformat_minor": 2
}
